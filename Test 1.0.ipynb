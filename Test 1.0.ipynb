{
 "cells": [
  {
   "cell_type": "markdown",
   "id": "b5fe5366",
   "metadata": {},
   "source": [
    "# Test 1.0 (Basic Python)\n"
   ]
  },
  {
   "cell_type": "code",
   "execution_count": 3,
   "id": "2f337239",
   "metadata": {},
   "outputs": [
    {
     "name": "stdout",
     "output_type": "stream",
     "text": [
      "Fruits from index 2 to 4: []\n",
      "First element: 1\n",
      "Last element: 5\n",
      "Grape is not in the list.\n",
      "All numbers:\n",
      "1\n",
      "2\n",
      "10\n",
      "4\n",
      "5\n",
      "Total numbers in list: 5\n",
      "Final fruits list: ['apple', 'mango']\n"
     ]
    }
   ],
   "source": [
    "# 1. Create an empty list called fruits\n",
    "fruits = []\n",
    "\n",
    "# 2. Add \"apple\" to the fruits list using append()\n",
    "fruits.append(\"apple\")\n",
    "\n",
    "# 3. Add another list [\"banana\", \"cherry\"] to fruits using extend()\n",
    "fruits.extend([\"banana\", \"cherry\"])\n",
    "\n",
    "# 4. Remove \"banana\" from the fruits list using remove()\n",
    "fruits.remove(\"banana\")\n",
    "\n",
    "# 5. Remove the last item from fruits using pop()\n",
    "fruits.pop()\n",
    "\n",
    "# 6. Reverse the fruits list using reverse()\n",
    "fruits.reverse()\n",
    "\n",
    "# 7. Insert \"mango\" at index 1 in the fruits list using insert()\n",
    "fruits.insert(1, \"mango\")\n",
    "\n",
    "# 8. Print elements from index 2 to 4 using slicing\n",
    "print(\"Fruits from index 2 to 4:\", fruits[2:4])\n",
    "\n",
    "# 9. Create a list of numbers from 1 to 5\n",
    "numbers = [1, 2, 3, 4, 5]\n",
    "\n",
    "# 10. Print the first and last element of the list using indexing\n",
    "print(\"First element:\", numbers[0])\n",
    "print(\"Last element:\", numbers[-1])\n",
    "\n",
    "# 11. Change the value at index 2 to 10\n",
    "numbers[2] = 10\n",
    "\n",
    "# 12. Check if \"grape\" exists in the list fruits, and print a message\n",
    "if \"grape\" in fruits:\n",
    "    print(\"Grape is in the list.\")\n",
    "else:\n",
    "    print(\"Grape is not in the list.\")\n",
    "\n",
    "# 13. Use a loop to print all items in the list one by one\n",
    "print(\"All numbers:\")\n",
    "for num in numbers:\n",
    "    print(num)\n",
    "\n",
    "# 14. Use len() to print the number of items in the list\n",
    "print(\"Total numbers in list:\", len(numbers))\n",
    "\n",
    "# Display the final fruits list for reference\n",
    "print(\"Final fruits list:\", fruits)\n"
   ]
  },
  {
   "cell_type": "markdown",
   "id": "fd2263a0",
   "metadata": {},
   "source": [
    "1- Create an empty list called fruits.\n",
    "\n",
    "2- Add \"apple\" to the fruits list using append().\n",
    "\n",
    "3- Add another list [\"banana\", \"cherry\"] to fruits using extend().\n",
    "\n",
    "4- Remove \"banana\" from the fruits list using remove().\n",
    "\n",
    "5- Remove the last item from fruits using pop().\n",
    "\n",
    "6- Reverse the fruits list using reverse().\n",
    "\n",
    "7- Insert \"mango\" at index 1 in the fruits list using insert().\n",
    "\n",
    "8- Print elements from index 2 to 4 using slicing.\n",
    "\n",
    "9- Create a list of numbers from 1 to 5.\n",
    "\n",
    "10- Print the first and last element of the list using indexing.\n",
    "\n",
    "11- Change the value at index 2 to 10.\n",
    "\n",
    "12- Check if \"grape\" exists in the list fruits, and print a message.\n",
    "\n",
    "13- Use a loop to print all items in the list one by one.\n",
    "\n",
    "14- Use len() to print the number of items in the list.\n",
    "\n"
   ]
  },
  {
   "cell_type": "markdown",
   "id": "06c5be66",
   "metadata": {},
   "source": [
    "# Tuple"
   ]
  },
  {
   "cell_type": "code",
   "execution_count": 4,
   "id": "231a6820",
   "metadata": {},
   "outputs": [
    {
     "name": "stdout",
     "output_type": "stream",
     "text": [
      "Number 2 appears 3 times in the tuple.\n",
      "Index of number 4 is: 4\n",
      "Updated tuple after adding 5: (1, 2, 3, 2, 4, 2, 5)\n",
      "Error occurred while trying to modify tuple: 'tuple' object does not support item assignment\n",
      "Final color tuple after adding a new color: ('red', 'green', 'blue', 'purple')\n"
     ]
    }
   ],
   "source": [
    "# 1. Create a tuple named num_tuple with repeated values\n",
    "num_tuple = (1, 2, 3, 2, 4, 2)\n",
    "\n",
    "# 2. Use count() to find how often the value 2 appears\n",
    "twos_count = num_tuple.count(2)\n",
    "print(\"Number 2 appears\", twos_count, \"times in the tuple.\")\n",
    "\n",
    "# 3. Use index() to locate the position of the number 4\n",
    "position_of_4 = num_tuple.index(4)\n",
    "print(\"Index of number 4 is:\", position_of_4)\n",
    "\n",
    "# 4. Add a value to the tuple by converting it into a list and back\n",
    "temp_list = list(num_tuple)\n",
    "temp_list.append(5)\n",
    "num_tuple = tuple(temp_list)\n",
    "print(\"Updated tuple after adding 5:\", num_tuple)\n",
    "\n",
    "# 5. Create a color tuple with three strings\n",
    "color_tuple = (\"red\", \"green\", \"blue\")\n",
    "\n",
    "# 6. Attempt to modify the first item of the tuple and observe the error\n",
    "try:\n",
    "    color_tuple[0] = \"yellow\"\n",
    "except TypeError as error:\n",
    "    print(\"Error occurred while trying to modify tuple:\", error)\n",
    "\n",
    "# 7. Convert the color_tuple to a list, add \"purple\", and convert back to tuple\n",
    "color_list = list(color_tuple)\n",
    "color_list.append(\"purple\")\n",
    "color_tuple = tuple(color_list)\n",
    "print(\"Final color tuple after adding a new color:\", color_tuple)\n"
   ]
  },
  {
   "cell_type": "markdown",
   "id": "82dc2cb0",
   "metadata": {},
   "source": [
    "1- Create a tuple of numbers like (1, 2, 3, 2, 4, 2).\n",
    "\n",
    "2- Use count() to find how many times 2 appears.\n",
    "\n",
    "3- Use index() to find the index of the number 4.\n",
    "\n",
    "4- If you want to add an item to a tuple, how will you convert it to a list, append the item, and convert it back to a tuple?\n",
    "\n",
    "5- Create a tuple of 3 strings: \"red\", \"green\", \"blue\".\n",
    "\n",
    "6- Try changing the first item of the tuple — what error do you get?\n",
    "\n",
    "7- Convert this tuple to a list, add a new color, and convert it back to a tuple.\n",
    "\n"
   ]
  },
  {
   "cell_type": "markdown",
   "id": "c60ddf0c",
   "metadata": {},
   "source": [
    "# Set"
   ]
  },
  {
   "cell_type": "code",
   "execution_count": 5,
   "id": "29e562dd",
   "metadata": {},
   "outputs": [
    {
     "name": "stdout",
     "output_type": "stream",
     "text": [
      "Set after trying to add duplicate 'apple': {'banana', 'apple'}\n",
      "Union of set1 and set2: {1, 2, 3, 4, 5}\n",
      "Intersection of set1 and set2: {3}\n",
      "Set after removing 'banana': {'apple'}\n",
      "Elements in my_set:\n",
      "apple\n"
     ]
    }
   ],
   "source": [
    "# 1. Create an empty set called my_set\n",
    "my_set = set()\n",
    "\n",
    "# 2. Add \"apple\" and \"banana\" to my_set using add()\n",
    "my_set.add(\"apple\")\n",
    "my_set.add(\"banana\")\n",
    "\n",
    "# 3. Do sets allow duplicate values? Let's check:\n",
    "my_set.add(\"apple\")  # Trying to add \"apple\" again\n",
    "print(\"Set after trying to add duplicate 'apple':\", my_set)\n",
    "# Explanation: Sets do not allow duplicates, so 'apple' only appears once.\n",
    "\n",
    "# 4. Create two sets and find their union and intersection\n",
    "set1 = {1, 2, 3}\n",
    "set2 = {3, 4, 5}\n",
    "\n",
    "union_result = set1.union(set2)\n",
    "intersection_result = set1.intersection(set2)\n",
    "\n",
    "print(\"Union of set1 and set2:\", union_result)\n",
    "print(\"Intersection of set1 and set2:\", intersection_result)\n",
    "\n",
    "# 5. Remove an item from a set using discard()\n",
    "my_set.discard(\"banana\")\n",
    "print(\"Set after removing 'banana':\", my_set)\n",
    "\n",
    "# 6. Use a loop to print all elements in a set\n",
    "print(\"Elements in my_set:\")\n",
    "for item in my_set:\n",
    "    print(item)\n"
   ]
  },
  {
   "cell_type": "markdown",
   "id": "82a76072",
   "metadata": {},
   "source": [
    "1- Create an empty set called my_set.\n",
    "\n",
    "2- Add \"apple\" and \"banana\" to my_set using add().\n",
    "\n",
    "3- Do sets allow duplicate values? Explain with an example.\n",
    "\n",
    "4- Create two sets:\n",
    "set1 = {1, 2, 3}\n",
    "set2 = {3, 4, 5}\n",
    "Find the union and intersection of the sets.\n",
    "\n",
    "5- Remove an item from a set using discard().\n",
    "\n",
    "6- Use a loop to print all elements in a set."
   ]
  },
  {
   "cell_type": "markdown",
   "id": "baa9de5d",
   "metadata": {},
   "source": [
    "# Dictionary"
   ]
  },
  {
   "cell_type": "code",
   "execution_count": 6,
   "id": "253e2968",
   "metadata": {},
   "outputs": [
    {
     "name": "stdout",
     "output_type": "stream",
     "text": [
      "Name: Ali\n",
      "Student keys: dict_keys(['name', 'grade', 'age'])\n",
      "Student values: dict_values(['Sara', 'A', 17])\n",
      "Yes, 'grade' is present in student dictionary.\n",
      "Student details:\n",
      "name: Sara\n",
      "grade: A\n",
      "age: 17\n"
     ]
    }
   ],
   "source": [
    "# 1. Create a dictionary with a key \"name\" and value \"Ali\"\n",
    "person = {\"name\": \"Ali\"}\n",
    "\n",
    "# 2. Access the value of the key \"name\"\n",
    "print(\"Name:\", person[\"name\"])\n",
    "\n",
    "# 3. Add a new key \"age\" with the value 25\n",
    "person[\"age\"] = 25\n",
    "\n",
    "# 4. Update the value of \"name\" to \"Ahmed\"\n",
    "person[\"name\"] = \"Ahmed\"\n",
    "\n",
    "# 5. Create a dictionary of a student\n",
    "student = {\"name\": \"Sara\", \"grade\": \"A\", \"age\": 17}\n",
    "\n",
    "# 6. Print all keys in the dictionary\n",
    "print(\"Student keys:\", student.keys())\n",
    "\n",
    "# 7. Print all values in the dictionary\n",
    "print(\"Student values:\", student.values())\n",
    "\n",
    "# 8. Check if \"grade\" key exists in the dictionary\n",
    "if \"grade\" in student:\n",
    "    print(\"Yes, 'grade' is present in student dictionary.\")\n",
    "\n",
    "# 9. Loop through the dictionary and print each key with its value\n",
    "print(\"Student details:\")\n",
    "for key, value in student.items():\n",
    "    print(f\"{key}:\", value)\n"
   ]
  },
  {
   "cell_type": "markdown",
   "id": "b026602a",
   "metadata": {},
   "source": [
    "1- Create a dictionary with a key \"name\" and value \"Ali\".\n",
    "\n",
    "2- Access the value of the key \"name\".\n",
    "\n",
    "3- Add a new key \"age\" with the value 25.\n",
    "\n",
    "4- Update the value of \"name\" to \"Ahmed\".\n",
    "\n",
    "5- Create a dictionary of a student: {\"name\": \"Sara\", \"grade\": \"A\", \"age\": 17}\n",
    "\n",
    "6- Print all keys in the dictionary.\n",
    "\n",
    "7- Print all values in the dictionary.\n",
    "\n",
    "8- Check if \"grade\" key exists in the dictionary.\n",
    "\n",
    "9- Loop through the dictionary and print each key and its value."
   ]
  },
  {
   "cell_type": "code",
   "execution_count": 7,
   "id": "cd70ecb2",
   "metadata": {},
   "outputs": [
    {
     "name": "stdout",
     "output_type": "stream",
     "text": [
      "Found 10\n",
      "Large number\n"
     ]
    }
   ],
   "source": [
    "# 1. Check if 10 is in the list\n",
    "num_list = [5, 10, 15, 20, 25]\n",
    "\n",
    "if 10 in num_list:\n",
    "    print(\"Found 10\")\n",
    "else:\n",
    "    print(\"10 not found\")\n",
    "\n",
    "# 2. Check if any number in the list is greater than 20\n",
    "has_large_number = False\n",
    "\n",
    "for number in num_list:\n",
    "    if number > 20:\n",
    "        has_large_number = True\n",
    "        break  # No need to check further once found\n",
    "\n",
    "if has_large_number:\n",
    "    print(\"Large number\")\n",
    "else:\n",
    "    print(\"Small number\")"
   ]
  },
  {
   "cell_type": "markdown",
   "id": "e9ebdc38",
   "metadata": {},
   "source": [
    "# If-Elif-Else"
   ]
  },
  {
   "cell_type": "markdown",
   "id": "2b080c16",
   "metadata": {},
   "source": [
    "1- Check if 10 is in the list. If it is, print \"Found 10\", otherwise print \"10 not found\".\n",
    "\n",
    "2- Write a condition: If any number is greater than 20, print \"Large number\", else print \"Small number\".\n",
    "\n"
   ]
  },
  {
   "cell_type": "markdown",
   "id": "37b86d19",
   "metadata": {},
   "source": [
    "# Simple Expression"
   ]
  },
  {
   "cell_type": "code",
   "execution_count": 13,
   "id": "df6344a6",
   "metadata": {},
   "outputs": [
    {
     "name": "stdout",
     "output_type": "stream",
     "text": [
      "a + b = 15\n",
      "a * b = 50\n",
      "b - a = 5\n",
      "b / a = 2.0\n",
      "Result of (a + b) * 2: 30\n"
     ]
    },
    {
     "ename": "ValueError",
     "evalue": "invalid literal for int() with base 10: 'Escape'",
     "output_type": "error",
     "traceback": [
      "\u001b[31m---------------------------------------------------------------------------\u001b[39m",
      "\u001b[31mValueError\u001b[39m                                Traceback (most recent call last)",
      "\u001b[36mCell\u001b[39m\u001b[36m \u001b[39m\u001b[32mIn[13]\u001b[39m\u001b[32m, line 15\u001b[39m\n\u001b[32m     12\u001b[39m \u001b[38;5;28mprint\u001b[39m(\u001b[33m\"\u001b[39m\u001b[33mResult of (a + b) * 2:\u001b[39m\u001b[33m\"\u001b[39m, result)\n\u001b[32m     14\u001b[39m \u001b[38;5;66;03m# 3 & 4. Take age input from user and check if adult or minor\u001b[39;00m\n\u001b[32m---> \u001b[39m\u001b[32m15\u001b[39m age = \u001b[38;5;28;43mint\u001b[39;49m\u001b[43m(\u001b[49m\u001b[38;5;28;43minput\u001b[39;49m\u001b[43m(\u001b[49m\u001b[33;43m\"\u001b[39;49m\u001b[33;43mEnter your age: \u001b[39;49m\u001b[33;43m\"\u001b[39;49m\u001b[43m)\u001b[49m\u001b[43m)\u001b[49m\n\u001b[32m     17\u001b[39m \u001b[38;5;28;01mif\u001b[39;00m age >= \u001b[32m18\u001b[39m:\n\u001b[32m     18\u001b[39m     \u001b[38;5;28mprint\u001b[39m(\u001b[33m\"\u001b[39m\u001b[33mYou are an adult.\u001b[39m\u001b[33m\"\u001b[39m)\n",
      "\u001b[31mValueError\u001b[39m: invalid literal for int() with base 10: 'Escape'"
     ]
    }
   ],
   "source": [
    "# 1. Basic arithmetic using a and b\n",
    "a = 5\n",
    "b = 10\n",
    "\n",
    "print(\"a + b =\", a + b)\n",
    "print(\"a * b =\", a * b)\n",
    "print(\"b - a =\", b - a)\n",
    "print(\"b / a =\", b / a)\n",
    "\n",
    "# 2. Expression: (a + b) * 2\n",
    "result = (a + b) * 2\n",
    "print(\"Result of (a + b) * 2:\", result)\n",
    "\n",
    "# 3 & 4. Take age input from user and check if adult or minor\n",
    "age = int(input(\"Enter your age: \"))\n",
    "\n",
    "if age >= 18:\n",
    "    print(\"You are an adult.\")\n",
    "else:\n",
    "    print(\"You are a minor.\")"
   ]
  },
  {
   "cell_type": "markdown",
   "id": "590b5937",
   "metadata": {},
   "source": [
    "1- Given a = 5, b = 10 Print the results of: a + b, a * b, b - a, and b / a.\n",
    "\n",
    "2- Write an expression to calculate (a + b) * 2 and print the result.\n",
    "\n",
    "3- Write a program that takes age as input from the user and checks:\n",
    "\n",
    "4- If age >= 18, print \"You are an adult\", Otherwise, print \"You are a minor\""
   ]
  },
  {
   "cell_type": "markdown",
   "id": "1e845f1a",
   "metadata": {},
   "source": [
    "# More Expression Questions"
   ]
  },
  {
   "cell_type": "code",
   "execution_count": 11,
   "id": "86509af1",
   "metadata": {},
   "outputs": [
    {
     "name": "stdout",
     "output_type": "stream",
     "text": [
      "Area of the rectangle: 50\n",
      "Celsius to Fahrenheit: 77.0\n",
      "Simple Interest: 100.0\n"
     ]
    }
   ],
   "source": [
    "# 1. Calculate the area of a rectangle with width = 5 and height = 10\n",
    "width = 5\n",
    "height = 10\n",
    "area = width * height\n",
    "print(\"Area of the rectangle:\", area)\n",
    "\n",
    "# 2. Convert Celsius to Fahrenheit (C = 25)\n",
    "C = 25\n",
    "F = (C * 9/5) + 32\n",
    "print(\"Celsius to Fahrenheit:\", F)\n",
    "\n",
    "# 3. Calculate Simple Interest (P = 1000, R = 5, T = 2)\n",
    "P = 1000\n",
    "R = 5\n",
    "T = 2\n",
    "SI = (P * R * T) / 100\n",
    "print(\"Simple Interest:\", SI)\n"
   ]
  },
  {
   "cell_type": "markdown",
   "id": "080b9bab",
   "metadata": {},
   "source": [
    "1- Calculate the area of a rectangle with width = 5 and height = 10. (Formula: area = width * height)\n",
    "\n",
    "2- Write an expression that converts Celsius to Fahrenheit:\n",
    "F = (C * 9/5) + 32, where C = 25.\n",
    "\n",
    "3- Write a simple interest formula:\n",
    "SI = (P * R * T) / 100, where P=1000, R=5, T=2"
   ]
  },
  {
   "cell_type": "markdown",
   "id": "93c1b2a0",
   "metadata": {},
   "source": [
    "# Range Function"
   ]
  },
  {
   "cell_type": "code",
   "execution_count": 12,
   "id": "c4dd4264",
   "metadata": {},
   "outputs": [
    {
     "name": "stdout",
     "output_type": "stream",
     "text": [
      "0\n",
      "1\n",
      "2\n",
      "3\n",
      "4\n",
      "1\n",
      "2\n",
      "3\n",
      "4\n",
      "5\n",
      "Hello\n",
      "Hello\n",
      "Hello\n",
      "Hello\n",
      "Hello\n",
      "2\n",
      "4\n",
      "6\n",
      "8\n",
      "10\n",
      "10\n",
      "9\n",
      "8\n",
      "7\n",
      "6\n",
      "5\n",
      "4\n",
      "3\n",
      "2\n",
      "1\n",
      "[3, 4, 5, 6, 7]\n",
      "Square of 1: 1\n",
      "Square of 2: 4\n",
      "Square of 3: 9\n",
      "Square of 4: 16\n",
      "Square of 5: 25\n"
     ]
    }
   ],
   "source": [
    "# 1. Use range() to print numbers from 0 to 4\n",
    "for num in range(5):\n",
    "    print(num)\n",
    "\n",
    "# 2. Use range(1, 6) to print numbers from 1 to 5\n",
    "for num in range(1, 6):\n",
    "    print(num)\n",
    "\n",
    "# 3. Use a for loop with range(5) to print \"Hello\" 5 times\n",
    "for _ in range(5):\n",
    "    print(\"Hello\")\n",
    "\n",
    "# 4. Use range(2, 11, 2) to print even numbers from 2 to 10\n",
    "for num in range(2, 11, 2):\n",
    "    print(num)\n",
    "\n",
    "# 5. Use range(10, 0, -1) to print numbers from 10 to 1 in reverse order\n",
    "for num in range(10, 0, -1):\n",
    "    print(num)\n",
    "\n",
    "# 6. Store a range(3, 8) in a list and print that list\n",
    "num_list = list(range(3, 8))\n",
    "print(num_list)\n",
    "\n",
    "# 7. Use range() inside a loop to print squares of numbers from 1 to 5\n",
    "for num in range(1, 6):\n",
    "    print(f\"Square of {num}: {num**2}\")\n"
   ]
  },
  {
   "cell_type": "markdown",
   "id": "11b3f55b",
   "metadata": {},
   "source": [
    "1- Use range() to print numbers from 0 to 4.\n",
    "\n",
    "2- Use range(1, 6) to print numbers from 1 to 5.\n",
    "\n",
    "3- Use a for loop with range(5) to print \"Hello\" 5 times.\n",
    "\n",
    "4- Use range(2, 11, 2) to print even numbers from 2 to 10.\n",
    "\n",
    "5- Use range(10, 0, -1) to print numbers from 10 to 1 in reverse order.\n",
    "\n",
    "6- Store a range(3, 8) in a list and print that list.\n",
    "\n",
    "7- Use range() inside a loop to print squares of numbers from 1 to 5.\n",
    "\n"
   ]
  },
  {
   "cell_type": "raw",
   "id": "cd66d971",
   "metadata": {},
   "source": [
    "All the Best \n",
    "Submit Before Saturday 12 PM"
   ]
  }
 ],
 "metadata": {
  "kernelspec": {
   "display_name": "Python 3",
   "language": "python",
   "name": "python3"
  },
  "language_info": {
   "codemirror_mode": {
    "name": "ipython",
    "version": 3
   },
   "file_extension": ".py",
   "mimetype": "text/x-python",
   "name": "python",
   "nbconvert_exporter": "python",
   "pygments_lexer": "ipython3",
   "version": "3.13.1"
  }
 },
 "nbformat": 4,
 "nbformat_minor": 5
}
