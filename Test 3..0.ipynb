{
 "cells": [
  {
   "cell_type": "code",
   "execution_count": null,
   "id": "28fda85a-f35f-4230-bab4-5f8e826d614c",
   "metadata": {},
   "outputs": [],
   "source": [
    "#1) Write a Python program to check whether a number is even or odd using if-else."
   ]
  },
  {
   "cell_type": "code",
   "execution_count": 1,
   "id": "92b39db6-415f-4ace-b15e-1aa63e955df9",
   "metadata": {
    "tags": []
   },
   "outputs": [
    {
     "name": "stdin",
     "output_type": "stream",
     "text": [
      "Enter a number:  15\n"
     ]
    },
    {
     "name": "stdout",
     "output_type": "stream",
     "text": [
      "The number is odd\n"
     ]
    }
   ],
   "source": [
    "number = int(input(\"Enter a number: \"))\n",
    "\n",
    "if number % 2 == 0:\n",
    "    print(\"The number is even\")\n",
    "else:\n",
    "    print(\"The number is odd\")"
   ]
  },
  {
   "cell_type": "code",
   "execution_count": null,
   "id": "c5efc05f-0e91-4bbb-b98b-03b654a9fad9",
   "metadata": {},
   "outputs": [],
   "source": [
    "#2) Write a for loop that prints numbers from 10 to 1 in reverse"
   ]
  },
  {
   "cell_type": "code",
   "execution_count": 2,
   "id": "26cbabf1-d4da-4e2b-a352-5c879317599d",
   "metadata": {
    "tags": []
   },
   "outputs": [
    {
     "name": "stdout",
     "output_type": "stream",
     "text": [
      "10\n",
      "9\n",
      "8\n",
      "7\n",
      "6\n",
      "5\n",
      "4\n",
      "3\n",
      "2\n",
      "1\n"
     ]
    }
   ],
   "source": [
    "for i in range(10, 0, -1):\n",
    "    print(i)"
   ]
  },
  {
   "cell_type": "code",
   "execution_count": null,
   "id": "8f946ba0-357c-4f66-a33f-fe865877b718",
   "metadata": {},
   "outputs": [],
   "source": [
    "#3) Write a while loop that keeps asking the user to input a number until they enter 0."
   ]
  },
  {
   "cell_type": "code",
   "execution_count": 3,
   "id": "28667720-fcb7-4b5f-812f-a512080d1b2e",
   "metadata": {
    "tags": []
   },
   "outputs": [
    {
     "name": "stdin",
     "output_type": "stream",
     "text": [
      "Enter a number (0 to stop):  1\n",
      "Enter a number (0 to stop):  0\n"
     ]
    }
   ],
   "source": [
    "num = int(input(\"Enter a number (0 to stop): \"))\n",
    "while num != 0:\n",
    "    num = int(input(\"Enter a number (0 to stop): \"))"
   ]
  },
  {
   "cell_type": "code",
   "execution_count": null,
   "id": "25c00b94-e050-4274-83e8-b03d2dd5469b",
   "metadata": {},
   "outputs": [],
   "source": [
    "#3) Write a function that accepts two numbers and returns their sum."
   ]
  },
  {
   "cell_type": "code",
   "execution_count": 4,
   "id": "501b1c27-68f5-4ec3-9d2e-57b3273881a3",
   "metadata": {
    "tags": []
   },
   "outputs": [
    {
     "data": {
      "text/plain": [
       "35"
      ]
     },
     "execution_count": 4,
     "metadata": {},
     "output_type": "execute_result"
    }
   ],
   "source": [
    "def two_sum(a,b):\n",
    "    return a+b\n",
    "two_sum(10,25)"
   ]
  },
  {
   "cell_type": "code",
   "execution_count": null,
   "id": "b8b79b59-ed04-404b-9c7d-70fe9daec62d",
   "metadata": {},
   "outputs": [],
   "source": [
    "#4) What will be the output of this code: print(list(map(lambda x: x*x, [1, 2, 3])))?"
   ]
  },
  {
   "cell_type": "code",
   "execution_count": null,
   "id": "9d0a4e6b-b292-4350-bf55-1f4506572eca",
   "metadata": {},
   "outputs": [],
   "source": [
    "Ans:- [1,4,9]"
   ]
  },
  {
   "cell_type": "code",
   "execution_count": null,
   "id": "27b483b9-44a0-42d5-88fa-0f4bc3ac5167",
   "metadata": {},
   "outputs": [],
   "source": [
    "#5) Use the filter() function to extract only even numbers from a list."
   ]
  },
  {
   "cell_type": "code",
   "execution_count": 6,
   "id": "67bf0bcb-c471-4439-a1f9-b56305b8c80e",
   "metadata": {
    "tags": []
   },
   "outputs": [
    {
     "name": "stdout",
     "output_type": "stream",
     "text": [
      "[2, 4, 6, 8, 10]\n"
     ]
    }
   ],
   "source": [
    "num=[1,2,3,4,5,6,7,8,9,10]\n",
    "print(list(filter(lambda x:x%2==0,num)))"
   ]
  },
  {
   "cell_type": "code",
   "execution_count": null,
   "id": "d4d718ad-1afd-410d-a5f7-1858321f86e9",
   "metadata": {},
   "outputs": [],
   "source": [
    "#6) Purpose of the else block in a try-except-else construct:\n",
    "\n",
    "The else block is used to write code that should run only when no exception occurs in the try block.\n",
    "It helps to keep the program clean by separating normal execution from error handling.\n",
    "\n",
    "If the code inside the try block runs successfully without any errors, the code inside the else block will be executed.\n",
    "If an error happens in the try block, the except block runs and the else block will be skipped."
   ]
  },
  {
   "cell_type": "code",
   "execution_count": null,
   "id": "e6dce793-45f4-4ddd-bb8a-76933f57fca1",
   "metadata": {},
   "outputs": [],
   "source": [
    "#7) Write a try-except block to handle division by zero."
   ]
  },
  {
   "cell_type": "code",
   "execution_count": 8,
   "id": "e255a2ef-1c91-4690-bb13-5bc1af3fea37",
   "metadata": {
    "tags": []
   },
   "outputs": [
    {
     "name": "stdin",
     "output_type": "stream",
     "text": [
      "Enter numerator:  10\n",
      "Enter denominator:  0\n"
     ]
    },
    {
     "name": "stdout",
     "output_type": "stream",
     "text": [
      "You can't divide by zero.\n"
     ]
    }
   ],
   "source": [
    "try:\n",
    "    a = int(input(\"Enter numerator: \"))\n",
    "    b = int(input(\"Enter denominator: \"))\n",
    "    result = a / b\n",
    "    print(\"Result:\", result)\n",
    "except ZeroDivisionError:\n",
    "    print(\"You can't divide by zero.\")\n"
   ]
  },
  {
   "cell_type": "code",
   "execution_count": null,
   "id": "3979688a-ad00-40de-a2f4-5160808a2ccb",
   "metadata": {},
   "outputs": [],
   "source": [
    "#8) What is the output of this lambda function? print((lambda x, y: x+y)(5, 3))"
   ]
  },
  {
   "cell_type": "code",
   "execution_count": 9,
   "id": "da827dfc-8716-4e4f-a287-869362703191",
   "metadata": {
    "tags": []
   },
   "outputs": [
    {
     "name": "stdout",
     "output_type": "stream",
     "text": [
      "8\n"
     ]
    }
   ],
   "source": [
    "print((lambda x, y: x+y)(5, 3))"
   ]
  },
  {
   "cell_type": "code",
   "execution_count": null,
   "id": "c96e366d-dde2-4ebd-a4b1-2103cdf9ffca",
   "metadata": {},
   "outputs": [],
   "source": [
    "#9)Define a class named Dog with properties name and breed. Add a method bark()."
   ]
  },
  {
   "cell_type": "code",
   "execution_count": 10,
   "id": "0d5f0246-b9f7-4e26-b08b-29f1431158fa",
   "metadata": {
    "tags": []
   },
   "outputs": [
    {
     "name": "stdout",
     "output_type": "stream",
     "text": [
      " Dog name: Puppy and Breed : German Shepherd\n"
     ]
    }
   ],
   "source": [
    "class Dog:\n",
    "    def __init__(self,name,breed):\n",
    "        self.name=name\n",
    "        self.breed=breed\n",
    "    def bark(self):\n",
    "        print(f\" Dog name: {self.name} and Breed : {self.breed}\")\n",
    "d=Dog(\"Puppy\",\"German Shepherd\")\n",
    "d.bark()"
   ]
  },
  {
   "cell_type": "code",
   "execution_count": null,
   "id": "b9795049-4a01-4fb6-8097-022a956d77cb",
   "metadata": {},
   "outputs": [],
   "source": [
    "#10) Create two objects of the Dog class and call their methods."
   ]
  },
  {
   "cell_type": "code",
   "execution_count": 11,
   "id": "2172a61c-3d47-4f5e-acd8-6d461ba390a9",
   "metadata": {
    "tags": []
   },
   "outputs": [
    {
     "name": "stdout",
     "output_type": "stream",
     "text": [
      " Dog name: Puppy and Breed : German Shepherd\n",
      " Dog name: Rahu and Breed : Bulldog\n"
     ]
    }
   ],
   "source": [
    "class Dog:\n",
    "    def __init__(self,name,breed):\n",
    "        self.name=name\n",
    "        self.breed=breed\n",
    "    def bark(self):\n",
    "        print(f\" Dog name: {self.name} and Breed : {self.breed}\")\n",
    "d=Dog(\"Puppy\",\"German Shepherd\")\n",
    "d1=Dog(\"Rahu\",\"Bulldog\")\n",
    "d.bark()\n",
    "d1.bark()"
   ]
  },
  {
   "cell_type": "code",
   "execution_count": null,
   "id": "5a1b960c-902f-4464-8203-a78148836dab",
   "metadata": {},
   "outputs": [],
   "source": [
    "#11)What is the difference between class variables and instance variables?"
   ]
  },
  {
   "cell_type": "code",
   "execution_count": null,
   "id": "e490d9dd-eb1a-4dfe-8a0e-dc1fd5ed038b",
   "metadata": {},
   "outputs": [],
   "source": [
    "#Class variables are the same for every object made from the class. If you change it in one place, it changes for all objects. It's like a rule or setting shared by everyone in a group.\n",
    "\n",
    "#Instance variables are different for each object. They hold data that's specific to that one object only—like your name or age compared to someone else's"
   ]
  },
  {
   "cell_type": "code",
   "execution_count": null,
   "id": "ac46db16-c2db-472f-b860-02af789365a9",
   "metadata": {},
   "outputs": [],
   "source": [
    "#12) What will this print: print(\"apple\" if 5 > 3 else \"banana\")?"
   ]
  },
  {
   "cell_type": "code",
   "execution_count": 12,
   "id": "0ce8b28f-bcf2-474c-a144-b65407861cb3",
   "metadata": {
    "tags": []
   },
   "outputs": [
    {
     "name": "stdout",
     "output_type": "stream",
     "text": [
      "apple\n"
     ]
    }
   ],
   "source": [
    "print(\"apple\" if 5 > 3 else \"banana\")"
   ]
  },
  {
   "cell_type": "code",
   "execution_count": null,
   "id": "273923f0-2d4b-4d95-bc67-15bf354f3469",
   "metadata": {},
   "outputs": [],
   "source": [
    "#13) Write a function that accepts a list and returns the list of squares using list comprehension."
   ]
  },
  {
   "cell_type": "code",
   "execution_count": null,
   "id": "ebc1468d-a11b-4a0c-b1db-0dacc3d9eb73",
   "metadata": {},
   "outputs": [],
   "source": [
    "def get_squares(numbers):\n",
    "    return [x**2 for x in numbers]\n",
    "\n",
    "# Example\n",
    "nums = [1, 2, 3, 4]\n",
    "print(get_squares(nums))  # Output: [1, 4, 9, 16]\n"
   ]
  },
  {
   "cell_type": "code",
   "execution_count": null,
   "id": "ee7e869b-c4ea-4efc-bfa1-7e71f6407385",
   "metadata": {},
   "outputs": [],
   "source": [
    "#14) Explain what map() and filter() return when executed."
   ]
  },
  {
   "cell_type": "code",
   "execution_count": null,
   "id": "6fa468c2-3428-4c7e-8737-371aef876ec1",
   "metadata": {},
   "outputs": [],
   "source": [
    "# map() returns a map object, which is an iterator. It applies a function to each item in a list (or any iterable) and returns the results.\n",
    "\n",
    "# filter() also returns a filter object, which is an iterator. It applies a function that returns True or False and keeps only the items where the function returns True.\n",
    "\n",
    "# To actually see the results, you usually convert them to a list using list()"
   ]
  },
  {
   "cell_type": "code",
   "execution_count": 13,
   "id": "e08d6a21-e7e8-4cd5-99cb-965e385fbbd9",
   "metadata": {
    "tags": []
   },
   "outputs": [
    {
     "name": "stdout",
     "output_type": "stream",
     "text": [
      "[1, 4, 9]\n",
      "[2, 4]\n"
     ]
    }
   ],
   "source": [
    "# Using map()\n",
    "nums = [1, 2, 3]\n",
    "squares = map(lambda x: x**2, nums)\n",
    "print(list(squares))  # Output: [1, 4, 9]\n",
    "\n",
    "# Using filter()\n",
    "nums = [1, 2, 3, 4, 5]\n",
    "even = filter(lambda x: x % 2 == 0, nums)\n",
    "print(list(even))  # Output: [2, 4]"
   ]
  },
  {
   "cell_type": "code",
   "execution_count": null,
   "id": "aa2deb83-1dc2-4ee4-8eb7-3ecff2cdacd4",
   "metadata": {},
   "outputs": [],
   "source": [
    "NUMPY:-"
   ]
  },
  {
   "cell_type": "code",
   "execution_count": null,
   "id": "c8bfb63b-fc24-4ae3-b483-ce6f576d6b84",
   "metadata": {},
   "outputs": [],
   "source": [
    "#1) Create a 3x3 matrix using np.random.randint(0, 10, (3, 3))."
   ]
  },
  {
   "cell_type": "code",
   "execution_count": 15,
   "id": "228d2445-db15-44dd-b9da-d8d189b788ef",
   "metadata": {
    "tags": []
   },
   "outputs": [
    {
     "name": "stdout",
     "output_type": "stream",
     "text": [
      "[[0 7 7]\n",
      " [5 8 3]\n",
      " [0 5 4]]\n"
     ]
    }
   ],
   "source": [
    "import numpy as np\n",
    "n=np.random.randint(0, 10, (3, 3))\n",
    "print(n)"
   ]
  },
  {
   "cell_type": "code",
   "execution_count": null,
   "id": "a722dd53-454f-4560-af7b-022bfefb7688",
   "metadata": {},
   "outputs": [],
   "source": [
    "#2) Slice the above matrix to extract the first two rows."
   ]
  },
  {
   "cell_type": "code",
   "execution_count": 16,
   "id": "ad891c14-8f73-4037-8bf9-ab7b06c432b0",
   "metadata": {
    "tags": []
   },
   "outputs": [
    {
     "name": "stdout",
     "output_type": "stream",
     "text": [
      "First Two Rows:\n",
      "[[0 7 7]\n",
      " [5 8 3]]\n"
     ]
    }
   ],
   "source": [
    "first_two_rows = n[:2]\n",
    "print(\"First Two Rows:\")\n",
    "print(first_two_rows)"
   ]
  },
  {
   "cell_type": "code",
   "execution_count": null,
   "id": "0e41544e-62e8-4953-bc55-4b910d3c71f5",
   "metadata": {},
   "outputs": [],
   "source": [
    "#3) Combine two 3x3 matrices using np.concatenate along axis 0 and axis 1"
   ]
  },
  {
   "cell_type": "code",
   "execution_count": null,
   "id": "9193161b-2a39-42fd-a108-4c2ad9289e4d",
   "metadata": {},
   "outputs": [],
   "source": [
    "# i Don't know need to learn"
   ]
  },
  {
   "cell_type": "code",
   "execution_count": null,
   "id": "2e01a336-a9d6-474f-9036-9d55937a3d66",
   "metadata": {},
   "outputs": [],
   "source": [
    "#4) Perform element-wise addition, subtraction, and multiplication of two matrices"
   ]
  },
  {
   "cell_type": "code",
   "execution_count": 18,
   "id": "b189af46-234a-4202-a443-2499e18e6311",
   "metadata": {
    "tags": []
   },
   "outputs": [
    {
     "name": "stdout",
     "output_type": "stream",
     "text": [
      "Element-wise Addition:\n",
      " [[15  7  9]\n",
      " [ 8 12  5]\n",
      " [12  9  5]]\n",
      "Element-wise Subtraction:\n",
      " [[ 1  3  7]\n",
      " [-4 -4  1]\n",
      " [ 4 -7  1]]\n",
      "Element-wise Multiplication:\n",
      " [[56 10  8]\n",
      " [12 32  6]\n",
      " [32  8  6]]\n"
     ]
    }
   ],
   "source": [
    "add = a + b\n",
    "sub = a - b\n",
    "mul = a * b\n",
    "\n",
    "print(\"Element-wise Addition:\\n\", add)\n",
    "print(\"Element-wise Subtraction:\\n\", sub)\n",
    "print(\"Element-wise Multiplication:\\n\", mul)"
   ]
  },
  {
   "cell_type": "code",
   "execution_count": null,
   "id": "2b9fe3bb-02ab-45a1-afc4-d698624b03fb",
   "metadata": {},
   "outputs": [],
   "source": [
    "#5) Demonstrate broadcasting by adding a 1D array to a 2D array"
   ]
  },
  {
   "cell_type": "code",
   "execution_count": 19,
   "id": "bf632fb8-2459-46e3-a941-d88c9e825682",
   "metadata": {
    "tags": []
   },
   "outputs": [
    {
     "name": "stdout",
     "output_type": "stream",
     "text": [
      "Broadcasted Addition:\n",
      " [[11 22 33]\n",
      " [14 25 36]]\n"
     ]
    }
   ],
   "source": [
    "arr_2d = np.array([[1, 2, 3], [4, 5, 6]])\n",
    "arr_1d = np.array([10, 20, 30])\n",
    "\n",
    "broadcasted = arr_2d + arr_1d\n",
    "print(\"Broadcasted Addition:\\n\", broadcasted)"
   ]
  },
  {
   "cell_type": "code",
   "execution_count": null,
   "id": "e1f7b56d-bdc7-45cd-a532-4e4aacf7f13a",
   "metadata": {},
   "outputs": [],
   "source": [
    "#6) Use np.clip to limit values in a matrix to a minimum of 2 and maximum of 8"
   ]
  },
  {
   "cell_type": "code",
   "execution_count": 20,
   "id": "fd9cef0c-dbb2-4ae1-9f83-f51da5bc6fc9",
   "metadata": {
    "tags": []
   },
   "outputs": [
    {
     "name": "stdout",
     "output_type": "stream",
     "text": [
      "Clipped Matrix (min=2, max=8):\n",
      " [[8 5 8]\n",
      " [2 4 3]\n",
      " [8 2 3]]\n"
     ]
    }
   ],
   "source": [
    "clipped = np.clip(a, 2, 8)\n",
    "print(\"Clipped Matrix (min=2, max=8):\\n\", clipped)"
   ]
  },
  {
   "cell_type": "code",
   "execution_count": null,
   "id": "a81420d5-4f1c-4c06-92ba-cef76e22c7b5",
   "metadata": {},
   "outputs": [],
   "source": [
    "#7) Use np.ceil on an array of floating-point numbers [1.2, 2.5, 3.8]"
   ]
  },
  {
   "cell_type": "code",
   "execution_count": 21,
   "id": "dc51f9b2-02ca-424e-ad46-26e2585be2ef",
   "metadata": {
    "tags": []
   },
   "outputs": [
    {
     "name": "stdout",
     "output_type": "stream",
     "text": [
      "Ceiling values:\n",
      " [2. 3. 4.]\n"
     ]
    }
   ],
   "source": [
    "floats = np.array([1.2, 2.5, 3.8])\n",
    "ceiled = np.ceil(floats)\n",
    "print(\"Ceiling values:\\n\", ceiled)"
   ]
  },
  {
   "cell_type": "code",
   "execution_count": null,
   "id": "5e341f8a-91e3-41f3-942d-47ca31b08bd2",
   "metadata": {},
   "outputs": [],
   "source": [
    "#8) Use np.where to replace all elements greater than 5 with 100 in a given array"
   ]
  },
  {
   "cell_type": "code",
   "execution_count": 22,
   "id": "7102569f-02bd-4ce8-9c50-6932353a2a43",
   "metadata": {
    "tags": []
   },
   "outputs": [
    {
     "name": "stdout",
     "output_type": "stream",
     "text": [
      "Replaced values > 5 with 100:\n",
      " [[  3 100   1]\n",
      " [100   2 100]]\n"
     ]
    }
   ],
   "source": [
    "arr = np.array([[3, 7, 1], [9, 2, 6]])\n",
    "modified = np.where(arr > 5, 100, arr)\n",
    "print(\"Replaced values > 5 with 100:\\n\", modified)"
   ]
  },
  {
   "cell_type": "code",
   "execution_count": null,
   "id": "36082ae7-51e0-43fb-b296-4d97eb88c428",
   "metadata": {},
   "outputs": [],
   "source": [
    "#9) Create two 2x2 matrices and compute their dot product"
   ]
  },
  {
   "cell_type": "code",
   "execution_count": 23,
   "id": "42c2f00e-686c-45b2-8908-a8744db40c49",
   "metadata": {
    "tags": []
   },
   "outputs": [
    {
     "name": "stdout",
     "output_type": "stream",
     "text": [
      "Dot Product:\n",
      " [[19 22]\n",
      " [43 50]]\n"
     ]
    }
   ],
   "source": [
    "x = np.array([[1, 2], [3, 4]])\n",
    "y = np.array([[5, 6], [7, 8]])\n",
    "\n",
    "dot_product = np.dot(x, y)\n",
    "print(\"Dot Product:\\n\", dot_product)"
   ]
  },
  {
   "cell_type": "code",
   "execution_count": null,
   "id": "658d78d1-681e-443e-a32f-2d9d5e8cc677",
   "metadata": {},
   "outputs": [],
   "source": []
  }
 ],
 "metadata": {
  "kernelspec": {
   "display_name": "Python 3 (ipykernel)",
   "language": "python",
   "name": "python3"
  },
  "language_info": {
   "codemirror_mode": {
    "name": "ipython",
    "version": 3
   },
   "file_extension": ".py",
   "mimetype": "text/x-python",
   "name": "python",
   "nbconvert_exporter": "python",
   "pygments_lexer": "ipython3",
   "version": "3.11.5"
  }
 },
 "nbformat": 4,
 "nbformat_minor": 5
}
